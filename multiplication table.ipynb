{
 "cells": [
  {
   "cell_type": "markdown",
   "id": "116e697b",
   "metadata": {},
   "source": [
    "# Multiplication Table "
   ]
  },
  {
   "cell_type": "code",
   "execution_count": 2,
   "id": "b6958f65",
   "metadata": {},
   "outputs": [
    {
     "name": "stdout",
     "output_type": "stream",
     "text": [
      "which multiplication table you want : 48\n",
      "48*1 = 48\n",
      "48*2 = 96\n",
      "48*3 = 144\n",
      "48*4 = 192\n",
      "48*5 = 240\n",
      "48*6 = 288\n",
      "48*7 = 336\n",
      "48*8 = 384\n",
      "48*9 = 432\n",
      "48*10 = 480\n",
      "48*11 = 528\n",
      "48*12 = 576\n"
     ]
    }
   ],
   "source": [
    "multiple =int(input('which multiplication table you want : '))\n",
    "i=1\n",
    "while i<=12:\n",
    "    print('{mul}*{ii} ='.format(mul=multiple,ii=i),end=' ')\n",
    "    print(multiple*i)\n",
    "    i +=1"
   ]
  },
  {
   "cell_type": "code",
   "execution_count": null,
   "id": "206252a8",
   "metadata": {},
   "outputs": [],
   "source": []
  }
 ],
 "metadata": {
  "kernelspec": {
   "display_name": "Python 3",
   "language": "python",
   "name": "python3"
  },
  "language_info": {
   "codemirror_mode": {
    "name": "ipython",
    "version": 3
   },
   "file_extension": ".py",
   "mimetype": "text/x-python",
   "name": "python",
   "nbconvert_exporter": "python",
   "pygments_lexer": "ipython3",
   "version": "3.8.8"
  }
 },
 "nbformat": 4,
 "nbformat_minor": 5
}
